{
 "cells": [
  {
   "cell_type": "code",
   "execution_count": 1,
   "id": "89bc7cd5",
   "metadata": {},
   "outputs": [
    {
     "data": {
      "text/plain": [
       "13"
      ]
     },
     "execution_count": 1,
     "metadata": {},
     "output_type": "execute_result"
    }
   ],
   "source": [
    "10+3"
   ]
  },
  {
   "cell_type": "code",
   "execution_count": 2,
   "id": "7650f078",
   "metadata": {},
   "outputs": [
    {
     "data": {
      "text/plain": [
       "15"
      ]
     },
     "execution_count": 2,
     "metadata": {},
     "output_type": "execute_result"
    }
   ],
   "source": [
    "20-5"
   ]
  },
  {
   "cell_type": "code",
   "execution_count": 3,
   "id": "dfe8c034",
   "metadata": {},
   "outputs": [
    {
     "data": {
      "text/plain": [
       "4.0"
      ]
     },
     "execution_count": 3,
     "metadata": {},
     "output_type": "execute_result"
    }
   ],
   "source": [
    "20/5"
   ]
  },
  {
   "cell_type": "code",
   "execution_count": 4,
   "id": "f4d053c8",
   "metadata": {},
   "outputs": [
    {
     "data": {
      "text/plain": [
       "4"
      ]
     },
     "execution_count": 4,
     "metadata": {},
     "output_type": "execute_result"
    }
   ],
   "source": [
    "20//5"
   ]
  },
  {
   "cell_type": "code",
   "execution_count": 5,
   "id": "3e163352",
   "metadata": {},
   "outputs": [
    {
     "data": {
      "text/plain": [
       "100"
      ]
     },
     "execution_count": 5,
     "metadata": {},
     "output_type": "execute_result"
    }
   ],
   "source": [
    "20*5"
   ]
  },
  {
   "cell_type": "code",
   "execution_count": 7,
   "id": "267db245",
   "metadata": {},
   "outputs": [
    {
     "name": "stdout",
     "output_type": "stream",
     "text": [
      "Y is big\n"
     ]
    }
   ],
   "source": [
    "x=10\n",
    "y=50\n",
    "\n",
    "if x>y:\n",
    "    print('X is big')\n",
    "else:\n",
    "    print('Y is big')"
   ]
  },
  {
   "cell_type": "code",
   "execution_count": 8,
   "id": "3d2043af",
   "metadata": {},
   "outputs": [
    {
     "name": "stdout",
     "output_type": "stream",
     "text": [
      "I \n",
      "\tam \n",
      "\t\tAnkan\n"
     ]
    }
   ],
   "source": [
    "s=('I \\n\\tam \\n\\t\\tAnkan')\n",
    "print(s)"
   ]
  },
  {
   "cell_type": "code",
   "execution_count": 9,
   "id": "54464343",
   "metadata": {},
   "outputs": [
    {
     "name": "stdout",
     "output_type": "stream",
     "text": [
      "Enter your name:Ankan Chowdhury\n",
      "Ankan Chowdhury\n"
     ]
    }
   ],
   "source": [
    "x=input('Enter your name:')\n",
    "print(x)"
   ]
  },
  {
   "cell_type": "code",
   "execution_count": null,
   "id": "337bfb80",
   "metadata": {},
   "outputs": [],
   "source": []
  },
  {
   "cell_type": "code",
   "execution_count": null,
   "id": "21cd96d7",
   "metadata": {},
   "outputs": [],
   "source": []
  }
 ],
 "metadata": {
  "kernelspec": {
   "display_name": "Python 3 (ipykernel)",
   "language": "python",
   "name": "python3"
  },
  "language_info": {
   "codemirror_mode": {
    "name": "ipython",
    "version": 3
   },
   "file_extension": ".py",
   "mimetype": "text/x-python",
   "name": "python",
   "nbconvert_exporter": "python",
   "pygments_lexer": "ipython3",
   "version": "3.10.2"
  }
 },
 "nbformat": 4,
 "nbformat_minor": 5
}
